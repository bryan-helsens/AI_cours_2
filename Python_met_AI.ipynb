{
 "cells": [
  {
   "cell_type": "markdown",
   "metadata": {},
   "source": [
    "# Python leren programmeren met AI assistentie"
   ]
  },
  {
   "cell_type": "markdown",
   "metadata": {},
   "source": [
    "Hier is de code voor het \"Hello, World!\"-programma.\n",
    "\n",
    "Om de code uit te voeren, klik ergens in de cel (de box met de code erin) en druk vervolgens op `Shift` + `Enter` (`Shift` + `Return` op een Mac) om deze uit te voeren."
   ]
  },
  {
   "cell_type": "code",
   "execution_count": 1,
   "metadata": {
    "height": 30
   },
   "outputs": [
    {
     "name": "stdout",
     "output_type": "stream",
     "text": [
      "Hello, World!\n"
     ]
    }
   ],
   "source": [
    "print(\"Hello, World!\")"
   ]
  },
  {
   "cell_type": "markdown",
   "metadata": {},
   "source": [
    "Laten we Python-code maken die jou begroet, in plaats van de wereld. Dit zijn de stappen:\n",
    "1. Open Claude.\n",
    "2. Typ de volgende prompt in (vervang mijn naam door die van jou):\n",
    "\n",
    "            Pas de onderstaande code aan zodat deze hallo tegen mij zegt.\n",
    "            print(\"Hello, World!\")\n",
    "            Mijn naam is Wim.\n",
    "   \n",
    "4. Plak de uitvoercode in de cel hieronder.\n",
    "6. Druk op `Shift + Enter` om je prompt in te dienen."
   ]
  },
  {
   "cell_type": "code",
   "execution_count": 4,
   "metadata": {
    "height": 47
   },
   "outputs": [
    {
     "name": "stdout",
     "output_type": "stream",
     "text": [
      "Hallo Bryan!\n"
     ]
    }
   ],
   "source": [
    "# PLAK CODE VANUIT Claude IN DEZE CEL\n",
    "print(\"Hallo Bryan!\")"
   ]
  },
  {
   "cell_type": "markdown",
   "metadata": {},
   "source": [
    "Je vraagt je misschien af wat de tekst betekent in de cellen hierboven die beginnen met het `#`-hekje. Dit is een commentaarregel. Het vertelt Python dat het alles mag negeren wat na het `#`-symbool op die regel komt. Commentaar wordt gebruikt om andere mensen te helpen begrijpen wat je code doet.\n",
    "\n",
    "Probeer de volgende cel uit te voeren door `Shift`+`Enter` in te drukken - wat denk je dat er zal gebeuren?"
   ]
  },
  {
   "cell_type": "code",
   "execution_count": 7,
   "metadata": {
    "height": 30
   },
   "outputs": [],
   "source": [
    "# DIT IS  COMMENTAAR - PYTHON ZAL DIT NEGEREN"
   ]
  },
  {
   "cell_type": "markdown",
   "metadata": {},
   "source": [
    "Je kunt meerdere commentaarregels in je code hebben, waaronder opeenvolgende regels en verspreid door je code heen:"
   ]
  },
  {
   "cell_type": "code",
   "execution_count": 8,
   "metadata": {
    "height": 115
   },
   "outputs": [
    {
     "name": "stdout",
     "output_type": "stream",
     "text": [
      "Hallo Wim!\n",
      "Hoe gaat je dag?\n"
     ]
    }
   ],
   "source": [
    "# Dit is een voorbeeld van code met meerdere\n",
    "# commentaarregels, inclusief deze die\n",
    "# over meerdere regels loopt\n",
    "print(\"Hallo Wim!\")\n",
    "# Voeg een extra print-opdracht toe\n",
    "print(\"Hoe gaat je dag?\")"
   ]
  },
  {
   "cell_type": "markdown",
   "metadata": {},
   "source": [
    "Voer de code in de volgende cel uit om een voorbeeld te zien van hoe Python reageert op code met een fout erin."
   ]
  },
  {
   "cell_type": "code",
   "execution_count": 9,
   "metadata": {
    "height": 30
   },
   "outputs": [
    {
     "ename": "SyntaxError",
     "evalue": "unterminated string literal (detected at line 1) (2390048663.py, line 1)",
     "output_type": "error",
     "traceback": [
      "\u001b[0;36m  Cell \u001b[0;32mIn[9], line 1\u001b[0;36m\u001b[0m\n\u001b[0;31m    print(\"Hallo Wim!)\u001b[0m\n\u001b[0m          ^\u001b[0m\n\u001b[0;31mSyntaxError\u001b[0m\u001b[0;31m:\u001b[0m unterminated string literal (detected at line 1)\n"
     ]
    }
   ],
   "source": [
    "print(\"Hallo Wim!)"
   ]
  },
  {
   "cell_type": "markdown",
   "metadata": {},
   "source": [
    "Je kunt Claude vragen om je te helpen deze code te repareren:\n",
    "1. Open Claude.\n",
    "2. Voer de volgende prompt in:\n",
    "\n",
    "       Wat is er mis met deze code en hoe los ik het op?\n",
    "       print(\"Hallo Wim!)\n",
    "\n",
    "Repareer de code in de volgende cel op basis van de aanbeveling van de Claude en voer de cel uit met `Shift`+`Enter` om te zien of de oplossing werkt!"
   ]
  },
  {
   "cell_type": "code",
   "execution_count": 10,
   "metadata": {
    "height": 47
   },
   "outputs": [
    {
     "name": "stdout",
     "output_type": "stream",
     "text": [
      "Hallo Wim!\n"
     ]
    }
   ],
   "source": [
    "# Bewerk de code op de volgende regel om de fout te corrigeren.\n",
    "print(\"Hallo Wim!\")"
   ]
  },
  {
   "cell_type": "markdown",
   "metadata": {},
   "source": [
    "## Oefening\n",
    "\n",
    "Je kunt oefenen wat je hebt geleerd door de onderstaande code-oefeningen te proberen. Voor elke oefening volg je de instructies in de commentaarregel en schrijf je jouw code op de regel eronder. Als je klaar bent, voer je je code uit door `Shift` + `Enter` in te drukken."
   ]
  },
  {
   "cell_type": "code",
   "execution_count": 11,
   "metadata": {
    "height": 30
   },
   "outputs": [
    {
     "name": "stdout",
     "output_type": "stream",
     "text": [
      "Wat voor weer is het vandaag?\n"
     ]
    }
   ],
   "source": [
    "# Schrijf code die een antwoord geeft op de vraag \"Wat voor weer is het vandaag?\"\n",
    "print(\"Wat voor weer is het vandaag?\")"
   ]
  },
  {
   "cell_type": "code",
   "execution_count": 12,
   "metadata": {
    "height": 30
   },
   "outputs": [
    {
     "ename": "NameError",
     "evalue": "name 'prnt' is not defined",
     "output_type": "error",
     "traceback": [
      "\u001b[0;31m---------------------------------------------------------------------------\u001b[0m",
      "\u001b[0;31mNameError\u001b[0m                                 Traceback (most recent call last)",
      "Cell \u001b[0;32mIn[12], line 2\u001b[0m\n\u001b[1;32m      1\u001b[0m \u001b[38;5;66;03m# Pas je code uit de vorige cel aan zodat er een fout optreedt wanneer je deze uitvoert\u001b[39;00m\n\u001b[0;32m----> 2\u001b[0m \u001b[43mprnt\u001b[49m(\u001b[38;5;124m\"\u001b[39m\u001b[38;5;124mWat voor weer is het vandaag?\u001b[39m\u001b[38;5;124m\"\u001b[39m)\n",
      "\u001b[0;31mNameError\u001b[0m: name 'prnt' is not defined"
     ]
    }
   ],
   "source": [
    "# Pas je code uit de vorige cel aan zodat er een fout optreedt wanneer je deze uitvoert\n",
    "prnt(\"Wat voor weer is het vandaag?\")"
   ]
  },
  {
   "cell_type": "code",
   "execution_count": 13,
   "metadata": {
    "height": 64
   },
   "outputs": [
    {
     "name": "stdout",
     "output_type": "stream",
     "text": [
      "Wat voor weer is het vandaag?\n"
     ]
    }
   ],
   "source": [
    "# Vraag Claude om je te helpen de fout in de code te herstellen en\n",
    "# typ de gecorrigeerde code op de volgende regel:\n",
    "print(\"Wat voor weer is het vandaag?\")"
   ]
  },
  {
   "cell_type": "markdown",
   "metadata": {},
   "source": [
    "# Data in Python\n",
    "\n",
    "Er zijn verschillende soorten data in Python. Hier leer je hoe tekst en getallen worden gebruikt in Python."
   ]
  },
  {
   "cell_type": "markdown",
   "metadata": {},
   "source": [
    "Strings worden gebruikt om tekst op te slaan en te manipuleren. Zoals je hier ziet, worden strings geschreven tussen aanhalingstekens en kunnen ze letters, cijfers, leestekens en andere speciale tekens bevatten. Voer de volgende cellen uit om deze vier verschillende strings te printen."
   ]
  },
  {
   "cell_type": "code",
   "execution_count": null,
   "metadata": {},
   "outputs": [],
   "source": [
    "print(\"Hello, World\")"
   ]
  },
  {
   "cell_type": "code",
   "execution_count": null,
   "metadata": {},
   "outputs": [],
   "source": [
    "print(\"My favoriete koffie is een espresso.\")"
   ]
  },
  {
   "cell_type": "code",
   "execution_count": null,
   "metadata": {},
   "outputs": [],
   "source": [
    "print(\"¯\\_(ツ)_/¯\")"
   ]
  },
  {
   "cell_type": "code",
   "execution_count": null,
   "metadata": {},
   "outputs": [],
   "source": [
    "print(\"2.99\")"
   ]
  },
  {
   "cell_type": "markdown",
   "metadata": {},
   "source": [
    "Als je drie aanhalingstekens gebruikt, kun je een string met meerdere regels opslaan. Deze strings kunnen over meer dan één regel gaan. Wanneer je de volgende cel uitvoert, zul je zien hoe de spaties in de tweede regel daadwerkelijk als tekens voor de string worden gelezen."
   ]
  },
  {
   "cell_type": "code",
   "execution_count": null,
   "metadata": {},
   "outputs": [],
   "source": [
    "print(\"\"\"Hello, World!\n",
    "      Het is geweldig om hier te zijn!\"\"\")"
   ]
  },
  {
   "cell_type": "markdown",
   "metadata": {},
   "source": [
    "In Python kun je het type van alle data die je gebruikt controleren. Om het gegevenstype te controleren, kun je de functie `type()` gebruiken. Wanneer je de volgende cel uitvoert, krijg je het type van de string `\"Wim\"` te zien."
   ]
  },
  {
   "cell_type": "code",
   "execution_count": null,
   "metadata": {},
   "outputs": [],
   "source": [
    "type(\"Wim\")"
   ]
  },
  {
   "cell_type": "markdown",
   "metadata": {},
   "source": [
    "Python retourneerde `str`, wat een afkorting is voor string. Laten we het type controleren voor een string met meerdere regels:"
   ]
  },
  {
   "cell_type": "code",
   "execution_count": null,
   "metadata": {},
   "outputs": [],
   "source": [
    "type(\"\"\"\n",
    "AI is als een junior developer:\n",
    "het werkt hard en snel,\n",
    "maar je blijft corrigeren.\n",
    "\"\"\")"
   ]
  },
  {
   "cell_type": "markdown",
   "metadata": {},
   "source": [
    "Dit geeft ook `str`, omdat het ook een string is. Laten we een getal proberen binnen aanhalingstekens:"
   ]
  },
  {
   "cell_type": "code",
   "execution_count": null,
   "metadata": {},
   "outputs": [],
   "source": [
    "type(\"2.99\")"
   ]
  },
  {
   "cell_type": "markdown",
   "metadata": {},
   "source": [
    "Dit is ook een string, zelfs als het eruitziet als een getal. Door aanhalingstekens te gebruiken, vertel je Python dat het als tekst moet worden behandeld, in plaats van als een getal. Wat gebeurt er met een getal zonder aanhalingstekens?"
   ]
  },
  {
   "cell_type": "code",
   "execution_count": null,
   "metadata": {},
   "outputs": [],
   "source": [
    "type(100)"
   ]
  },
  {
   "cell_type": "markdown",
   "metadata": {},
   "source": [
    "Deze keer krijg je `int`, wat staat voor integer (geheel getal). Integers zijn de positieve en negatieve gehele getallen, zoals 42, 100, -9 en 0. Omdat er geen aanhalingstekens rond het getal staan, gaat Python ervan uit dat dit numerieke data zijn, en aangezien dit getal geen decimale waarde heeft, interpreteert het het als een integer. Laten we nu een getal proberen dat wel decimalen bevat:"
   ]
  },
  {
   "cell_type": "code",
   "execution_count": null,
   "metadata": {},
   "outputs": [],
   "source": [
    "type(2.99)"
   ]
  },
  {
   "cell_type": "markdown",
   "metadata": {},
   "source": [
    "De functie `type()` retourneert `float`, wat het gegevenstype is dat wordt gebruikt om kommagetallen (floating point numbers) op te slaan. Kommagetallen zijn positieve en negatieve getallen die een decimale waarde bevatten, zoals 3.14, 2.99 en -0.003."
   ]
  },
  {
   "cell_type": "markdown",
   "metadata": {},
   "source": [
    "## Python als rekenmachine\n",
    "\n",
    "Python werkt uitstekend voor snelle berekningen. Stel dat je een winkel hebt en het totale aantal verkopen van de afgelopen 12 maanden wilt berekenen, dan kun je Python als volgt gebruiken:"
   ]
  },
  {
   "cell_type": "code",
   "execution_count": null,
   "metadata": {},
   "outputs": [],
   "source": [
    "print(28+35+43+50+65+70+68+66+75+80+95)"
   ]
  },
  {
   "cell_type": "markdown",
   "metadata": {},
   "source": [
    "Je kan ook meer geavanceerde berekeningen uitvoeren, zoals het berekenen van de samengestelde rente na 10 jaar tegen een rentepercentage van 5%. Om dit te doen, kun je 1.05 tot de macht 10 berekenen. Weet je niet zeker hoe je dit in Python kunt doen? Je kunt Claude om hulp vragen!"
   ]
  },
  {
   "cell_type": "markdown",
   "metadata": {},
   "source": [
    "<p style=\"background-color:#F5C780; padding:15px\"> 🤖 <b>Gebruik Claude</b>: Hoe bereken ik 1.05 tot de 10de macht?\n",
    "</p>"
   ]
  },
  {
   "cell_type": "code",
   "execution_count": 14,
   "metadata": {},
   "outputs": [
    {
     "name": "stdout",
     "output_type": "stream",
     "text": [
      "Zet hier de code van de Claude\n",
      "1.628894626777442\n"
     ]
    }
   ],
   "source": [
    "print(\"Zet hier de code van de Claude\")\n",
    "resultaat = pow(1.05, 10)\n",
    "print(resultaat)"
   ]
  },
  {
   "cell_type": "markdown",
   "metadata": {},
   "source": [
    "## Oefening\n",
    "\n",
    "Print tekst met gemengde cijfers en letters, of alleen symbolen, en controleer dan het type. Probeer strings van meerdere regels te gebruiken met behulp van drie aanhalingstekens. Als je fouten maakt, vraag dan de chatbot om hulp."
   ]
  },
  {
   "cell_type": "code",
   "execution_count": 15,
   "metadata": {},
   "outputs": [
    {
     "name": "stdout",
     "output_type": "stream",
     "text": [
      "C0d3_W@rr!or 2023 #programming\n"
     ]
    }
   ],
   "source": [
    "print(\"C0d3_W@rr!or 2023 #programming\")"
   ]
  },
  {
   "cell_type": "code",
   "execution_count": 16,
   "metadata": {},
   "outputs": [
    {
     "data": {
      "text/plain": [
       "str"
      ]
     },
     "execution_count": 16,
     "metadata": {},
     "output_type": "execute_result"
    }
   ],
   "source": [
    "type(\"C0d3_W@rr!or 2023 #programming\")"
   ]
  },
  {
   "cell_type": "markdown",
   "metadata": {},
   "source": [
    "Los de fouten in de volgende codecellen op."
   ]
  },
  {
   "cell_type": "code",
   "execution_count": 17,
   "metadata": {},
   "outputs": [
    {
     "name": "stdout",
     "output_type": "stream",
     "text": [
      "Er zijn 366 dagen in een schrikkeljaar\n"
     ]
    }
   ],
   "source": [
    "# Fix de fout in deze code\n",
    "print(\"Er zijn 366 dagen in een schrikkeljaar\")"
   ]
  },
  {
   "cell_type": "code",
   "execution_count": 18,
   "metadata": {},
   "outputs": [
    {
     "name": "stdout",
     "output_type": "stream",
     "text": [
      "Er zijn 366 \n",
      "dagen in een schrikkeljaar\n"
     ]
    }
   ],
   "source": [
    "# Fix de fout in deze code\n",
    "print(\"\"\"Er zijn 366 \n",
    "dagen in een schrikkeljaar\"\"\")"
   ]
  },
  {
   "cell_type": "markdown",
   "metadata": {},
   "source": [
    "Één inch is 2,54 cm. Hoeveel cm is 6 inch?"
   ]
  },
  {
   "cell_type": "code",
   "execution_count": 24,
   "metadata": {},
   "outputs": [
    {
     "name": "stdout",
     "output_type": "stream",
     "text": [
      "Zet 6 inch om naar cm\n",
      "6 inch is equal to 15.24 cm\n"
     ]
    }
   ],
   "source": [
    "# Schrijf code om 6 inch om te zetten naar cm\n",
    "print(\"Zet 6 inch om naar cm\")\n",
    "inch = 6\n",
    "\n",
    "result = inch * 2.54\n",
    "print(f\"{inch} inch is equal to {result:.2f} cm\")"
   ]
  },
  {
   "cell_type": "markdown",
   "metadata": {},
   "source": [
    "## 3. Combineren van strings met berekeningen of data: f-Strings"
   ]
  },
  {
   "cell_type": "markdown",
   "metadata": {},
   "source": [
    "Als je een temperatuur in graden Fahrenheit wilt omzetten naar graden Celsius zou je iets als dit doen:"
   ]
  },
  {
   "cell_type": "code",
   "execution_count": 25,
   "metadata": {},
   "outputs": [
    {
     "name": "stdout",
     "output_type": "stream",
     "text": [
      "23.88888888888889\n"
     ]
    }
   ],
   "source": [
    "print(((75 - 32) * 5 / 9))"
   ]
  },
  {
   "cell_type": "markdown",
   "metadata": {},
   "source": [
    "Als je de temperatuurconversie wilt weergeven in een string die de berekening bevat, kun je iets als het volgende proberen:"
   ]
  },
  {
   "cell_type": "code",
   "execution_count": null,
   "metadata": {},
   "outputs": [],
   "source": [
    "print(\"De temperatuur 75F is in graden Celsius ((75 - 32) * 5 / 9)C\")"
   ]
  },
  {
   "cell_type": "markdown",
   "metadata": {},
   "source": [
    "Dit werkt duidelijk niet. Het geeft je de formule terug, maar voert de daadwerkelijke berekening naar graden Celsius niet uit.\n",
    "\n",
    "Om het resultaat van de berekening binnen die string weer te geven in plaats van alleen de formule, kun je in Python een f-string gebruiken, die er als volgt uitziet:"
   ]
  },
  {
   "cell_type": "code",
   "execution_count": null,
   "metadata": {},
   "outputs": [],
   "source": [
    "print(f\"De temperatuur 75F is in graden Celsius {((75 - 32) * 5 / 9)}C\")"
   ]
  },
  {
   "cell_type": "markdown",
   "metadata": {},
   "source": [
    "Merk de `f` (voor \"formatted\") op vóór de aanhalingstekens die een string aangeven. De berekening staat binnen accolades `{(75 - 32) * 5 / 9}`. Het `f`-teken vertelt Python dat de daaropvolgende string gegevens of berekeningen bevat binnen elk paar accolades."
   ]
  },
  {
   "cell_type": "markdown",
   "metadata": {},
   "source": [
    "Laten we een ander voorbeeld doornemen. Je kunt de leeftijd van Isabel als volgt afdrukken:"
   ]
  },
  {
   "cell_type": "code",
   "execution_count": null,
   "metadata": {},
   "outputs": [],
   "source": [
    "print(\"Isabel is 28 jaar oud.\")"
   ]
  },
  {
   "cell_type": "markdown",
   "metadata": {},
   "source": [
    "\n",
    "Omdat mensen gemiddeld langer leven dan honden spreekt men soms over hondenjaren. Er wordt aangenomen dat de leeftijd van een hond een zevende deel is van de echte menselijke leeftijd. Als je Isabel's hondenleeftijd wilt berekenen en op een leesbare manier wilt weergeven, gebruik je geen gewone string zoals hieronder:"
   ]
  },
  {
   "cell_type": "code",
   "execution_count": null,
   "metadata": {},
   "outputs": [],
   "source": [
    "print(\"Isabel is 28/7 hondenjaren oud.\")"
   ]
  },
  {
   "cell_type": "markdown",
   "metadata": {},
   "source": [
    "In plaats daarvan kan je een f-string gebruiken die de berekening voor de equivalente hondenleeftijd bevat, net zoals in het voorbeeld van de temperatuurconversie."
   ]
  },
  {
   "cell_type": "code",
   "execution_count": null,
   "metadata": {},
   "outputs": [],
   "source": [
    "print(f\"Isabel is {28/7:.0f} hondenjaren oud.\")"
   ]
  },
  {
   "cell_type": "markdown",
   "metadata": {},
   "source": [
    "In `f\"{28/7:.0f}\"` geeft het `:.0f`-gedeelte aan dat het resultaat van `28/7` moet worden weergegeven zonder decimalen. Je hoeft je niet al te veel zorgen te maken over de details, maar de `f` in `:.0f` betekent dat het getal een floating-point getal is en zo moet worden opgemaakt. Dit houdt in dat het getal wordt afgerond op het dichtstbijzijnde gehele getal en zonder decimalen wordt weergegeven."
   ]
  },
  {
   "cell_type": "markdown",
   "metadata": {},
   "source": [
    "Tot nu toe heb je gewerkt met strings die relatief kort zijn. Voor langere strings gebruik je strings van meerdere regels, die gemakkelijker te lezen zijn in een code-editor.\n",
    "\n",
    "De volgende f-string bevat een beschrijving van het angelsaksische gebruik van maateenheden die niet in het metrische systeem vallen. Het toont de equivalente milliliters (ml) voor 8 vloeibare ounces melk en de equivalente vloeibare ounces voor 100 ml water:"
   ]
  },
  {
   "cell_type": "code",
   "execution_count": null,
   "metadata": {},
   "outputs": [],
   "source": [
    "print(f\"\"\"\n",
    "    De meeste landen gebruiken het metrische systeem voor het meten van recepten,\n",
    "    maar angelsaksische bakkers gebruiken een ander systeem. Ze gebruiken bijvoorbeeld\n",
    "    vloeibare ounces om vloeistoffen te meten in plaats van milliliters (ml).\n",
    "        \n",
    "    Bijvoorbeeld, 8 vloeibare ounces melk is {8 * 29.5735} ml.\n",
    "    En 100 ml water is {100 / 29.5735} vloeibare ounces.\n",
    "\"\"\")"
   ]
  },
  {
   "cell_type": "markdown",
   "metadata": {},
   "source": [
    "Zoals je ziet, moet je drie aanhalingstekens `\"\"\"` gebruiken voor strings van meerdere regels."
   ]
  },
  {
   "cell_type": "markdown",
   "metadata": {},
   "source": [
    "## Oefening\n",
    "\n",
    "Probeer de onderstaande oefeningen om de concepten te oefenen. Lees de opmerkingen in elke cel met de instructies voor elke oefening.\n",
    "\n",
    "**Voel je vrij om Claude om hulp te vragen als je vastloopt.**"
   ]
  },
  {
   "cell_type": "code",
   "execution_count": 26,
   "metadata": {},
   "outputs": [
    {
     "name": "stdout",
     "output_type": "stream",
     "text": [
      "Ik ben 35 jaar old.\n"
     ]
    }
   ],
   "source": [
    "# Verander de code om je leeftijd te printen\n",
    "age= 35\n",
    "print(f\"Ik ben {age} jaar old.\")"
   ]
  },
  {
   "cell_type": "code",
   "execution_count": 27,
   "metadata": {},
   "outputs": [
    {
     "name": "stdout",
     "output_type": "stream",
     "text": [
      "Er zijn 52.142857142857146 weken in een jaar\n"
     ]
    }
   ],
   "source": [
    "# Fix deze code\n",
    "print(f\"Er zijn {365/7} weken in een jaar\")"
   ]
  },
  {
   "cell_type": "code",
   "execution_count": 28,
   "metadata": {},
   "outputs": [
    {
     "name": "stdout",
     "output_type": "stream",
     "text": [
      "De oppervlakte van een vierkant met zijdes van 5 cm is 25 vierkante cm.\n"
     ]
    }
   ],
   "source": [
    "# Vervolledig de code\n",
    "zijde = 5\n",
    "oppervlakte = zijde * zijde\n",
    "print(f\"De oppervlakte van een vierkant met zijdes van {zijde} cm is {oppervlakte} vierkante cm.\")"
   ]
  },
  {
   "cell_type": "code",
   "execution_count": 29,
   "metadata": {},
   "outputs": [
    {
     "name": "stdout",
     "output_type": "stream",
     "text": [
      "Het huisr had een mooie oppervlakte: 1200 vierkante voet, of 111.5 vierkante meters!\n"
     ]
    }
   ],
   "source": [
    "# Pas de code aan zodat er 1 decimaal wordt weergegeven\n",
    "print(f\"Het huisr had een mooie oppervlakte: 1200 vierkante voet, of {1200 * 0.092903:.1f} vierkante meters!\")"
   ]
  },
  {
   "cell_type": "markdown",
   "metadata": {},
   "source": [
    "# 4. Variabelen "
   ]
  },
  {
   "cell_type": "markdown",
   "metadata": {},
   "source": [
    "Bij het programmeren worden variabelen gebruikt om gegevens op te slaan, te verwerken en te manipuleren. Stel dat je 28 wilt opslaan in de variabele leeftijd, dan zou je dit als volgt doen:"
   ]
  },
  {
   "cell_type": "code",
   "execution_count": 44,
   "metadata": {},
   "outputs": [],
   "source": [
    "leeftijd = 28"
   ]
  },
  {
   "cell_type": "markdown",
   "metadata": {},
   "source": [
    "\n",
    "Als je dan print() gebruikt met `leeftijd` als argument, krijg je de waarde die je aan die variabele hebt toegekend."
   ]
  },
  {
   "cell_type": "code",
   "execution_count": 45,
   "metadata": {},
   "outputs": [
    {
     "name": "stdout",
     "output_type": "stream",
     "text": [
      "28\n"
     ]
    }
   ],
   "source": [
    "print(leeftijd)"
   ]
  },
  {
   "cell_type": "markdown",
   "metadata": {},
   "source": [
    "Met `leeftijd = 28` vertel je Python om een variabele genaamd `leeftijd` te maken en deze te gebruiken om de waarde `28` op te slaan. Je kunt echter de waarde die aan een eerder gemaakte variabele is toegekend, veranderen. Bijvoorbeeld, je kunt de waarde `5` toekennen aan `leeftijd` met de volgende code:"
   ]
  },
  {
   "cell_type": "code",
   "execution_count": 46,
   "metadata": {},
   "outputs": [],
   "source": [
    "leeftijd = 5"
   ]
  },
  {
   "cell_type": "markdown",
   "metadata": {},
   "source": [
    "Dus als je nu `leeftijd` weergeeft, krijg je `5` in plaats van `28`."
   ]
  },
  {
   "cell_type": "code",
   "execution_count": 47,
   "metadata": {},
   "outputs": [
    {
     "name": "stdout",
     "output_type": "stream",
     "text": [
      "5\n"
     ]
    }
   ],
   "source": [
    "print(leeftijd)"
   ]
  },
  {
   "cell_type": "markdown",
   "metadata": {},
   "source": [
    "Variabelen kunnen worden gebruikt om kommagetallen (floating point getallen), gehele getallen (integers), strings en andere soorten gegevens op te slaan. Bijvoorbeeld, je kunt een variabele `naam` maken en de string `\"Otto\"` eraan toekennen, of een variabele `gnome_hoogte` en het kommagetal `12.7` eraan toekennen."
   ]
  },
  {
   "cell_type": "code",
   "execution_count": 48,
   "metadata": {},
   "outputs": [],
   "source": [
    "naam = \"Otto\"\n",
    "gnome_hoogte = 12.7"
   ]
  },
  {
   "cell_type": "markdown",
   "metadata": {},
   "source": [
    "Je kunt variabelen binnen f-strings gebruiken om je uitvoer leesbaarder te maken. Bijvoorbeeld, je kunt de waarde die is toegekend aan `leeftijd` samen met de string `\"Leeftijd: \"` weergeven, zodat iedereen die de uitvoer leest begrijpt wat de waarde betekent.\n",
    "\n",
    "Hier is hoe je dat kunt doen:"
   ]
  },
  {
   "cell_type": "code",
   "execution_count": 49,
   "metadata": {},
   "outputs": [
    {
     "name": "stdout",
     "output_type": "stream",
     "text": [
      "Leeftijd: 5\n"
     ]
    }
   ],
   "source": [
    "print(f\"Leeftijd: {leeftijd}\")"
   ]
  },
  {
   "cell_type": "markdown",
   "metadata": {},
   "source": [
    "Laten we nu f-strings gebruiken om de waarden die zijn toegekend aan `naam` en `gnome_hoogte` weer te geven:"
   ]
  },
  {
   "cell_type": "code",
   "execution_count": 50,
   "metadata": {},
   "outputs": [
    {
     "name": "stdout",
     "output_type": "stream",
     "text": [
      "Naam: Otto\n",
      "Gnome hoogte: 12.7\n"
     ]
    }
   ],
   "source": [
    "print(f\"Naam: {naam}\")\n",
    "print(f\"Gnome hoogte: {gnome_hoogte}\")"
   ]
  },
  {
   "cell_type": "markdown",
   "metadata": {},
   "source": [
    "Variabelen kunnen je ook helpen om waarden op te slaan die constant veranderen. Neem een spel waarin de score begint bij nul. In de volgende cel maak je een variabele score, ken je deze de waarde 0 toe, en toon je de huidige score:"
   ]
  },
  {
   "cell_type": "code",
   "execution_count": 51,
   "metadata": {},
   "outputs": [
    {
     "name": "stdout",
     "output_type": "stream",
     "text": [
      "0\n"
     ]
    }
   ],
   "source": [
    "score = 0 # De score is momenteel 0\n",
    "print(score)"
   ]
  },
  {
   "cell_type": "markdown",
   "metadata": {},
   "source": [
    "Wanneer de score met 50 punten toeneemt, kun je de variabele bijwerken door de vorige waarde te gebruiken en 50 toe te voegen:"
   ]
  },
  {
   "cell_type": "code",
   "execution_count": 52,
   "metadata": {},
   "outputs": [
    {
     "name": "stdout",
     "output_type": "stream",
     "text": [
      "50\n"
     ]
    }
   ],
   "source": [
    "score = score + 50 # de score is nu 0 + 50 of 50\n",
    "print(score)"
   ]
  },
  {
   "cell_type": "markdown",
   "metadata": {},
   "source": [
    "Op een vergelijkbare manier kan de variabele score worden bijgewerkt wanneer de score met nog eens 100 punten toeneemt door 100 toe te voegen aan de vorige waarde die in score is opgeslagen:"
   ]
  },
  {
   "cell_type": "code",
   "execution_count": 53,
   "metadata": {},
   "outputs": [
    {
     "name": "stdout",
     "output_type": "stream",
     "text": [
      "150\n"
     ]
    }
   ],
   "source": [
    "score = score + 100 # de score is nu 100 + 50 of 150\n",
    "print(score)"
   ]
  },
  {
   "cell_type": "markdown",
   "metadata": {},
   "source": [
    "De variabele `score` slaagt dus de meest bijgewerkte scorewaarde.\n",
    "\n",
    "Je kunt de uiteindelijke score afdrukken met een f-string:"
   ]
  },
  {
   "cell_type": "code",
   "execution_count": 54,
   "metadata": {},
   "outputs": [
    {
     "name": "stdout",
     "output_type": "stream",
     "text": [
      "De finale score is: 150\n"
     ]
    }
   ],
   "source": [
    "print(f\"De finale score is: {score}\") # print 150"
   ]
  },
  {
   "cell_type": "markdown",
   "metadata": {},
   "source": [
    "Variabelen laten toe om efficiënter te coderen. Denk aan het voorbeeld van hondenleeftijd. Stel dat Otto 49 jaar oud is, dan kun je zijn hondenleeftijd weergeven als volgt"
   ]
  },
  {
   "cell_type": "code",
   "execution_count": 55,
   "metadata": {},
   "outputs": [
    {
     "name": "stdout",
     "output_type": "stream",
     "text": [
      "Otto's age in dog years is 7.0\n"
     ]
    }
   ],
   "source": [
    "print(f\"Otto's age in dog years is {49 / 7}\")"
   ]
  },
  {
   "cell_type": "markdown",
   "metadata": {},
   "source": [
    "Alternatief, als je met variabelen werkt, kan je Otto's hondenleeftijd berekenen en deze toewijzen aan de variabele `hond_leeftijd`:"
   ]
  },
  {
   "cell_type": "code",
   "execution_count": 56,
   "metadata": {},
   "outputs": [],
   "source": [
    "hond_leeftijd = 49 / 7"
   ]
  },
  {
   "cell_type": "markdown",
   "metadata": {},
   "source": [
    "Je kan makkelijk zien hoe dit efficienter kan zijn. Stel dat je een f-string wilt weergeven met meerdere keren Otto's hondenleeftijd. Zonder het gebruik van variabelen zou je zijn hondenleeftijd elke keer opnieuw moeten berekenen wanneer je ernaar verwijst."
   ]
  },
  {
   "cell_type": "code",
   "execution_count": 57,
   "metadata": {},
   "outputs": [
    {
     "name": "stdout",
     "output_type": "stream",
     "text": [
      "Otto's hondenleeftijd is 7.0. Dus een hond die ongeveer\n",
      "7.0 is, zou even oud zijn als Otto. Elke hond die ongeveer 7.0\n",
      "jaar geleden geboren is, zou in dezelfde levensfase zijn als Otto.\n"
     ]
    }
   ],
   "source": [
    "print(f\"\"\"Otto's hondenleeftijd is {49/7}. Dus een hond die ongeveer\n",
    "{49/7} is, zou even oud zijn als Otto. Elke hond die ongeveer {49/7}\n",
    "jaar geleden geboren is, zou in dezelfde levensfase zijn als Otto.\"\"\")"
   ]
  },
  {
   "cell_type": "markdown",
   "metadata": {},
   "source": [
    "Als Otto een jaar ouder zou worden, zou je de waarden in elke accolade moeten aanpassen naar 50/7. In plaats daarvan kun je een f-string gebruiken met de variabele `hond_leeftijd`, zoals hieronder:"
   ]
  },
  {
   "cell_type": "code",
   "execution_count": 58,
   "metadata": {},
   "outputs": [
    {
     "name": "stdout",
     "output_type": "stream",
     "text": [
      "Otto's hondenleeftijd is 7.0. Dus een hond die ongeveer\n",
      "7.0 is, zou even oud zijn als Otto. Elke hond die ongeveer 7.0\n",
      "jaar geleden geboren is, zou in dezelfde levensfase zijn als Otto.\n"
     ]
    }
   ],
   "source": [
    "print(f\"\"\"Otto's hondenleeftijd is {hond_leeftijd}. Dus een hond die ongeveer\n",
    "{hond_leeftijd} is, zou even oud zijn als Otto. Elke hond die ongeveer {hond_leeftijd}\n",
    "jaar geleden geboren is, zou in dezelfde levensfase zijn als Otto.\"\"\")"
   ]
  },
  {
   "cell_type": "markdown",
   "metadata": {},
   "source": [
    "Je hoeft nu alleen `hond_leeftijd` bij te werken met Otto's nieuwe equivalente hondenleeftijd:"
   ]
  },
  {
   "cell_type": "code",
   "execution_count": 59,
   "metadata": {},
   "outputs": [],
   "source": [
    "hond_leeftijd = 50/7"
   ]
  },
  {
   "cell_type": "markdown",
   "metadata": {},
   "source": [
    "\n",
    "En je kunt dezelfde f-string gebruiken als eerder, zonder deze te hoeven bewerken. Door een variabele één keer te definiëren, kun je deze op meerdere plaatsen gebruiken, wat computerprogramma's veel efficiënter maakt."
   ]
  },
  {
   "cell_type": "code",
   "execution_count": 60,
   "metadata": {},
   "outputs": [
    {
     "name": "stdout",
     "output_type": "stream",
     "text": [
      "Otto's hondenleeftijd is 7.142857142857143. Dus een hond die ongeveer\n",
      "7.142857142857143 is, zou even oud zijn als Otto. Elke hond die ongeveer 7.142857142857143\n",
      "jaar geleden geboren is, zou in dezelfde levensfase zijn als Otto.\n"
     ]
    }
   ],
   "source": [
    "print(f\"\"\"Otto's hondenleeftijd is {hond_leeftijd}. Dus een hond die ongeveer\n",
    "{hond_leeftijd} is, zou even oud zijn als Otto. Elke hond die ongeveer {hond_leeftijd}\n",
    "jaar geleden geboren is, zou in dezelfde levensfase zijn als Otto.\"\"\")"
   ]
  },
  {
   "cell_type": "markdown",
   "metadata": {},
   "source": [
    "Je kan ook de naam \"Otto\" vervangen door de variabele `naam` binnen accolades."
   ]
  },
  {
   "cell_type": "code",
   "execution_count": 61,
   "metadata": {},
   "outputs": [
    {
     "name": "stdout",
     "output_type": "stream",
     "text": [
      "Otto's hondenleeftijd is 7.142857142857143. Dus een hond die ongeveer\n",
      "7.142857142857143 is, zou even oud zijn als Otto. Elke hond die ongeveer 7.142857142857143\n",
      "jaar geleden geboren is, zou in dezelfde levensfase zijn als Otto.\n"
     ]
    }
   ],
   "source": [
    "print(f\"\"\"{naam}'s hondenleeftijd is {hond_leeftijd}. Dus een hond die ongeveer\n",
    "{hond_leeftijd} is, zou even oud zijn als {naam}. Elke hond die ongeveer {hond_leeftijd}\n",
    "jaar geleden geboren is, zou in dezelfde levensfase zijn als {naam}.\"\"\")"
   ]
  },
  {
   "cell_type": "markdown",
   "metadata": {},
   "source": [
    "Op deze manier kan je Otto's naam veranderen in zijn voor- en achternaam:"
   ]
  },
  {
   "cell_type": "code",
   "execution_count": 62,
   "metadata": {},
   "outputs": [],
   "source": [
    "naam = \"Otto Matic\""
   ]
  },
  {
   "cell_type": "markdown",
   "metadata": {},
   "source": [
    "Met de f-string wordt de wijziging weergegeven op alle plaatsen waar de variabele `naam` voorkomt:"
   ]
  },
  {
   "cell_type": "code",
   "execution_count": 63,
   "metadata": {},
   "outputs": [
    {
     "name": "stdout",
     "output_type": "stream",
     "text": [
      "Otto Matic's hondenleeftijd is 7.142857142857143. Dus een hond die ongeveer\n",
      "7.142857142857143 is, zou even oud zijn als Otto Matic. Elke hond die ongeveer 7.142857142857143\n",
      "jaar geleden geboren is, zou in dezelfde levensfase zijn als Otto Matic.\n"
     ]
    }
   ],
   "source": [
    "print(f\"\"\"{naam}'s hondenleeftijd is {hond_leeftijd}. Dus een hond die ongeveer\n",
    "{hond_leeftijd} is, zou even oud zijn als {naam}. Elke hond die ongeveer {hond_leeftijd}\n",
    "jaar geleden geboren is, zou in dezelfde levensfase zijn als {naam}.\"\"\")"
   ]
  },
  {
   "cell_type": "markdown",
   "metadata": {},
   "source": [
    "## Oefening\n",
    "\n",
    "Probeer onderstaande oefeningen om de nieuwe concepten te oefenen. Lees de opmerkingen in elke cel met de instructies.\n",
    "\n",
    "**Voel je vrij om Claude om hulp te vragen als je vastloopt.**"
   ]
  },
  {
   "cell_type": "code",
   "execution_count": 64,
   "metadata": {},
   "outputs": [
    {
     "name": "stdout",
     "output_type": "stream",
     "text": [
      "Hallo bryan!\n"
     ]
    }
   ],
   "source": [
    "# Maak een variabele genaamd 'mijn_naam' en geef deze de waarde van jouw naam als een string.\n",
    "# Print vervolgens een begroeting met behulp van de variabele, zoals \"Hallo Wim!\"\n",
    "my_name = \"bryan\"\n",
    "print(f\"Hallo {my_name}!\")"
   ]
  },
  {
   "cell_type": "code",
   "execution_count": 65,
   "metadata": {},
   "outputs": [
    {
     "name": "stdout",
     "output_type": "stream",
     "text": [
      "Je favoriete nummer plus 10 is 40\n"
     ]
    }
   ],
   "source": [
    "# Voer hieronder je favoriete nummer in en sla het op in een variabele genaamd 'fav_num'.\n",
    "# Print een bericht dat je vertelt wat je favoriete nummer plus 10 is.\n",
    "fav_num = 30\n",
    "print(f\"Je favoriete nummer plus 10 is {fav_num + 10}\")"
   ]
  },
  {
   "cell_type": "code",
   "execution_count": 66,
   "metadata": {},
   "outputs": [
    {
     "name": "stdout",
     "output_type": "stream",
     "text": [
      "Ik heb ['Spain', 'Portugal', 'UK'] landen bezocht. Ik ben van plan om nog ['USA', 'Italy', 'Germany'] landen te bezoeken,\n",
      "      en als ik klaar ben, zal ik ['Spain', 'Portugal', 'UK', 'USA', 'Italy', 'Germany'] landen hebben bezocht.\n"
     ]
    }
   ],
   "source": [
    "# Maak twee variabelen, 'landen_bezocht' en 'landen_te_bezoeken', en ken ze het aantal\n",
    "# landen toe waar je bent geweest en het aantal landen dat je hoopt te bezoeken. Vul vervolgens de print-opdracht in.\n",
    "\n",
    "landen_bezocht = [\"Spain\", \"Portugal\", \"UK\"]\n",
    "landen_te_bezoeken = [\"USA\", \"Italy\", \"Germany\"]\n",
    "\n",
    "print(f\"\"\"Ik heb {landen_bezocht} landen bezocht. Ik ben van plan om nog {landen_te_bezoeken} landen te bezoeken,\n",
    "      en als ik klaar ben, zal ik {landen_bezocht + landen_te_bezoeken} landen hebben bezocht.\"\"\")"
   ]
  },
  {
   "cell_type": "markdown",
   "metadata": {},
   "source": [
    "## 5. samenstellen van prompts met variabellen"
   ]
  },
  {
   "cell_type": "markdown",
   "metadata": {},
   "source": [
    "In de volgende cel importeer je de functie `chatbot_response`, die gebruik maakt van een LLM met een instructie die je als een string opgeeft en het resultaat weergeeft. (Indien je een error krijgt dat cohere nog niet geïnstalleerd is verwijder je het hekje op de eerste lijn zodat deze ook wordt uitgevoerd) "
   ]
  },
  {
   "cell_type": "code",
   "execution_count": 67,
   "metadata": {},
   "outputs": [],
   "source": [
    "#!pip install cohere\n",
    "from chatbot_functies import chatbot_response"
   ]
  },
  {
   "cell_type": "markdown",
   "metadata": {},
   "source": [
    "Je kunt die functie gebruiken alsof je een chatbot een vraag stelt. Je hoeft alleen je instructies als een string op te geven. Bijvoorbeeld, je kunt vragen: \"Wat is de hoofdstad van Frankrijk?\" met de volgende code:"
   ]
  },
  {
   "cell_type": "code",
   "execution_count": 68,
   "metadata": {},
   "outputs": [
    {
     "data": {
      "text/plain": [
       "'De hoofdstad van Frankrijk is Parijs.'"
      ]
     },
     "execution_count": 68,
     "metadata": {},
     "output_type": "execute_result"
    }
   ],
   "source": [
    "chatbot_response(\"Wat is de hoofdstad van Frankrijk?\")"
   ]
  },
  {
   "cell_type": "markdown",
   "metadata": {},
   "source": [
    "Laten we de LLM vragen om een levensstijlbeschrijving voor Otto Matic, wiens naam is opgeslagen in `naam`, als hij een hond van `hond_leeftijd` jaren oud zou zijn."
   ]
  },
  {
   "cell_type": "code",
   "execution_count": 69,
   "metadata": {},
   "outputs": [
    {
     "data": {
      "text/plain": [
       "'Als Otto Matic een hond was en 7.142857142857143 jaar oud is, zou dit overeenkomen met een respectabele leeftijd voor een hond, wat vaak wordt beschouwd als de senior levensfase. Honden worden over het algemeen beschouwd als senioren wanneer ze de leeftijd van 7 jaar bereiken, hoewel dit kan variëren afhankelijk van het ras en de individuele gezondheid. Hier is een beschrijving van wat deze levensfase voor een hond zou kunnen betekenen:\\n\\n**Energieniveau:** In de senior levensfase zal het energieniveau van Otto Matic waarschijnlijk afnemen in vergelijking met zijn jongere jaren. Hij zou minder actief en speels kunnen zijn en meer neiging hebben om te rusten en te ontspannen. Langer en dieper slapen is ook gebruikelijk bij oudere honden. Lange wandelingen of intensieve trainingssessies kunnen minder aantrekkelijk voor hem zijn, maar regelmatige, zachte oefeningen blijven belangrijk om spiermassa en mobiliteit te behouden.\\n\\n**Interesses:** Oudere honden hebben vaak een meer gematigd tempo en kunnen genieten van een rustiger leven. Otto Matic zou meer interesse kunnen tonen in comfort en gezelschap dan in avontuurlijke activiteiten. Hij zou kunnen genieten van knuffelen met zijn baasjes, warme plekjes om te slapen, en misschien zelfs wat extra verwennerij en traktaties. Interesses in spelen en knagen kunnen afnemen, maar sommige honden houden van zachte, interactieve spelletjes die niet te veel inspanning vereisen.\\n\\n**Gedrag:** Op gedragsgebied kunnen oudere honden kalmer en minder impulsief worden. Otto Matic zou meer geduldig en wijs kunnen overkomen. Hij zou minder snel afgeleid kunnen zijn door omgevingsgeluiden of andere dieren, wat een teken is van een meer gerijpt temperament. Oudere honden kunnen ook meer aanhankelijk worden en meer genegenheid zoeken bij hun baasjes. \\n\\nHet is belangrijk om op te merken dat, hoewel oudere honden vaak kalmer zijn, ze nog steeds liefdevolle aandacht, regelmatige controle bij de dierenarts en een aangepaste voeding en oefenroutine nodig hebben. Gezondheidsproblemen, zoals gewrichtsproblemen, tandproblemen of een afnemend gezichts- of gehoorvermogen, kunnen ook vaker voorkomen in deze levensfase, dus regelmatige controles zijn essentieel om hun welzijn te waarborgen.\\n\\nHoud er rekening mee dat dit algemene observaties zijn en dat individuele honden variaties kunnen vertonen in hun gedrag en interesses, afhankelijk van hun ras, persoonlijkheid en gezondheid.'"
      ]
     },
     "execution_count": 69,
     "metadata": {},
     "output_type": "execute_result"
    }
   ],
   "source": [
    "chatbot_response(f\"\"\"Als {naam} een hond was, zou hij {hond_leeftijd} jaar oud zijn.\n",
    "Beschrijf welke levensfase dat zou zijn voor een hond en wat dat zou kunnen\n",
    "inhouden op het gebied van energieniveau, interesses en gedrag.\"\"\")"
   ]
  },
  {
   "cell_type": "markdown",
   "metadata": {},
   "source": [
    "De volgende variabelenamen hebben ook enkele problemen. Probeer ze zelf te corrigeren of gebruik hulp van Claude."
   ]
  },
  {
   "cell_type": "code",
   "execution_count": 73,
   "metadata": {},
   "outputs": [],
   "source": [
    "chauffeur = \"eenhoorn\"\n",
    "chauffeur_voertuig = \"kleurrijke, asymmetrische dinosaurus auto\"\n",
    "favoriete_planeet = \"Pluto\""
   ]
  },
  {
   "cell_type": "markdown",
   "metadata": {},
   "source": [
    "Nu kun je de volgende cel bijwerken met de wijzigingen die je in de vorige cel hebt aangebracht."
   ]
  },
  {
   "cell_type": "code",
   "execution_count": 74,
   "metadata": {},
   "outputs": [
    {
     "data": {
      "text/plain": [
       "\"Er was eens een magische eenhoorn genaamd Sprankelstaart, die droomde van het worden van de snelste racer in het hele universum. Hij had een speciale gave: hij kon met zijn hoorn regenboogkleurige vonken creëren die hem een extra boost gaven tijdens het racen. Sprankelstaart woonde op een verre planeet vol wonderlijke wezens, maar hij had zijn zinnen gezet op de grote race op Pluto, waar de allerbeste racers samenkwamen.\\n\\nToen de grote dag aanbrak, sprong Sprankelstaart in zijn favoriete voertuig, een prachtige, asymmetrische dinosaurus-raceauto. Deze auto was een kunstwerk op zich, met felgele schubben en een krachtige staart die hem extra snelheid gaf. De motor brulde als het gebrul van een echte dinosaurus wanneer hij tot leven kwam.\\n\\nDe race begon en Sprankelstaart schoot vooruit, zijn hoorn fonkelend in de zon. Hij slalomde tussen asteroïden en overwoekerde de mysterieuze valleien van Pluto. Andere racers, waaronder een vliegende draak en een robot met raketmotoren, waren hevige concurrentie. Maar Sprankelstaart's unieke vaardigheden en zijn snelle dinosaurus-auto maakten hem een formidabele tegenstander.\\n\\nTerwijl hij de laatste ronde bereikte, was het een nek-aan-nek race tussen Sprankelstaart en een enorme mechanische spin. Sprankelstaart gaf een krachtige sprong, zijn hoorn creëerde een regenboogstraal die hem vooruit katapulteerde. Hij passeerde de finishlijn net voor zijn rivaal en won de kampioensbeker! Het hele publiek juichte en de eenhoorn voelde een enorme trots.\\n\\nNa de race werd Sprankelstaart omringd door zijn fans, die zijn glanzende vacht en kleurrijke auto bewonderden. Hij had bewezen dat zelfs een magische eenhoorn uit een ver land de grootste racer op Pluto kon worden. Sprankelstaart's avontuur toonde aan dat dromen uit kunnen komen, zelfs als ze zo ver weg lijken als de sterren.\""
      ]
     },
     "execution_count": 74,
     "metadata": {},
     "output_type": "execute_result"
    }
   ],
   "source": [
    "chatbot_response(f\"\"\"Schrijf een kinderverhaal van 300 woorden over een {chauffeur} \n",
    "die in een {chauffeur_voertuig} racet voor de kampioensbeker op {favoriete_planeet}.\"\"\")\n"
   ]
  },
  {
   "cell_type": "markdown",
   "metadata": {},
   "source": [
    "## Oefening\n",
    "\n",
    "Probeer de onderstaande oefeningen om de nieuwe concepten te oefenen. Lees de opmerkingen in elke cel met de instructies.\n",
    "\n",
    "**Voel je vrij om Claude om hulp te vragen als je vastloopt.**"
   ]
  },
  {
   "cell_type": "code",
   "execution_count": 76,
   "metadata": {},
   "outputs": [
    {
     "name": "stdout",
     "output_type": "stream",
     "text": [
      "Mijn favoriete boek is 1001 Manieren om een Hoed te Dragen, maar ik houd ook van 2002 Manieren om een Sjaal te Dragen)\n"
     ]
    }
   ],
   "source": [
    "# Corrigeer deze code\n",
    "first_favoriete_boek = \"1001 Manieren om een Hoed te Dragen\"\n",
    "tweede_fav_boek = \"2002 Manieren om een Sjaal te Dragen\"\n",
    "print(f\"Mijn favoriete boek is {first_favoriete_boek}, maar ik houd ook van {tweede_fav_boek})\")"
   ]
  },
  {
   "cell_type": "code",
   "execution_count": 77,
   "metadata": {},
   "outputs": [
    {
     "data": {
      "text/plain": [
       "'Based on your favorite food, movie, and game, I\\'d recommend the song \"Burger Man\" by the American rock band, The Dead Milkmen. This song is a humorous and quirky punk rock tune from their 1985 album \"Big Lizard in My Backyard.\"\\n\\nThe song\\'s title and lyrics might resonate with your interest in burgers, and the band\\'s playful and unconventional style could appeal to fans of the game Minecraft, known for its creativity and unique aesthetic. Additionally, if you enjoy the movie \"Subservience,\" which I assume explores themes of power dynamics and societal norms, \"Burger Man\" offers a satirical take on consumerism and fast-food culture.\\n\\nGive it a listen and see if it matches your taste!'"
      ]
     },
     "execution_count": 77,
     "metadata": {},
     "output_type": "execute_result"
    }
   ],
   "source": [
    "# Maak variabelen voor je favoriete spel, film en eten.\n",
    "# Gebruik vervolgens chatbot_response om de LLM te vragen\n",
    "# om een nieuw nummer aan te bevelen dat je kunt beluisteren op basis van je voorkeuren.\n",
    "\n",
    "fav_game = \"Minecraft\"\n",
    "fav_movie = \"Subservience\"\n",
    "fav_food = \"Burger\"\n",
    "\n",
    "chatbot_response(f\"\"\"\n",
    "Hey, this is my fav food: {fav_food}, fav movie: {fav_movie} and fav game: {fav_game}.\n",
    "What is a song you can recommand me based on this data?\n",
    "\"\"\")\n"
   ]
  },
  {
   "cell_type": "markdown",
   "metadata": {},
   "source": [
    "## 6. functies - acties op data\n",
    "\n",
    "Je hebt de functie `print()` al gebruikt om waarden weer te geven op het scherm en de functie `chatbot_response()` om een LLM te gebruiken volgens de instructie die je als string meegeeft. Hieronder zul je `\"¯\\_(ツ)_/¯\"` afdrukken en de LLM vragen naar de hoofdstad van Frankrijk."
   ]
  },
  {
   "cell_type": "code",
   "execution_count": 78,
   "metadata": {},
   "outputs": [
    {
     "name": "stdout",
     "output_type": "stream",
     "text": [
      "¯\\_(ツ)_/¯\n"
     ]
    },
    {
     "name": "stderr",
     "output_type": "stream",
     "text": [
      "<>:1: SyntaxWarning: invalid escape sequence '\\_'\n",
      "<>:1: SyntaxWarning: invalid escape sequence '\\_'\n",
      "/tmp/ipykernel_6850/3495690502.py:1: SyntaxWarning: invalid escape sequence '\\_'\n",
      "  print(\"¯\\_(ツ)_/¯\")\n"
     ]
    }
   ],
   "source": [
    "print(\"¯\\_(ツ)_/¯\")"
   ]
  },
  {
   "cell_type": "code",
   "execution_count": 79,
   "metadata": {},
   "outputs": [
    {
     "data": {
      "text/plain": [
       "'De hoofdstad van Frankrijk is Parijs.'"
      ]
     },
     "execution_count": 79,
     "metadata": {},
     "output_type": "execute_result"
    }
   ],
   "source": [
    "chatbot_response(\"Wat is de hoofdstad van Frankrijk?\")"
   ]
  },
  {
   "cell_type": "markdown",
   "metadata": {},
   "source": [
    "Je hebt ook al de functie `type` gebruikt, die je het type geeft dat in Python wordt gebruikt voor een waarde of variabele die je opgeeft. Bijvoorbeeld, het type van 17 is int (voor integer)."
   ]
  },
  {
   "cell_type": "code",
   "execution_count": 80,
   "metadata": {},
   "outputs": [
    {
     "data": {
      "text/plain": [
       "int"
      ]
     },
     "execution_count": 80,
     "metadata": {},
     "output_type": "execute_result"
    }
   ],
   "source": [
    "type(17)"
   ]
  },
  {
   "cell_type": "markdown",
   "metadata": {},
   "source": [
    "Er zijn veel functies in Python die je direct kunt gebruiken. Bijvoorbeeld, de functie `len()` telt het aantal tekens in een string. Dus wanneer je de onderstaande code uitvoert, wordt (met behulp van `print()`) het resultaat weergegeven van het tellen (met `len()`) van het aantal tekens in de string `\"Hello World!\"`."
   ]
  },
  {
   "cell_type": "code",
   "execution_count": 81,
   "metadata": {},
   "outputs": [
    {
     "name": "stdout",
     "output_type": "stream",
     "text": [
      "12\n"
     ]
    }
   ],
   "source": [
    "print( len(\"Hello World!\") ) "
   ]
  },
  {
   "cell_type": "markdown",
   "metadata": {},
   "source": [
    "Als een ander voorbeeld kun je `round()` gebruiken om een kommagetal (floating point nummer) af te ronden op het dichtstbijzijnde gehele getal. Hieronder gebruik je `print()` om het resultaat van het afronden (met `round()`) van het getal `42.17` weer te geven."
   ]
  },
  {
   "cell_type": "code",
   "execution_count": 82,
   "metadata": {},
   "outputs": [
    {
     "name": "stdout",
     "output_type": "stream",
     "text": [
      "42\n"
     ]
    }
   ],
   "source": [
    "print(round(42.17))"
   ]
  },
  {
   "cell_type": "markdown",
   "metadata": {},
   "source": [
    "Je kan het resultaat van een functie opslaan in variabelen op een manier die sterk lijkt op wat je al eerder hebt gedaan. Hieronder sla je het resultaat van len(\"Hello World!\") op in de variabele string_lengte."
   ]
  },
  {
   "cell_type": "code",
   "execution_count": 83,
   "metadata": {},
   "outputs": [
    {
     "name": "stdout",
     "output_type": "stream",
     "text": [
      "12\n"
     ]
    }
   ],
   "source": [
    "string_lengte = len(\"Hello World!\")\n",
    "print(string_lengte)"
   ]
  },
  {
   "cell_type": "markdown",
   "metadata": {},
   "source": [
    "Er zijn veel functies in Python, en je hoeft ze niet allemaal uit je hoofd te kennen. Als je een functie nodig hebt om een specifieke taak uit te voeren, kun je de chatbot om hulp vragen. Probeer het met de voorgestelde prompt hieronder, of bedenk je eigen vraag.\n",
    "\n",
    "<p style=\"background-color:#F5C780; padding:15px\"> 🤖 <b>Gebruik Claude</b>: Hoe kan ik de lengte van een string vinden? </p>"
   ]
  },
  {
   "cell_type": "markdown",
   "metadata": {},
   "source": [
    "Functies kunnen samen met variabelen worden gebruikt in AI-programma's. Je hebt eerder gezien hoe je aangepaste instructies (of prompts) kunt maken voor een LLM met behulp van variabelen. In de cel hieronder gebruik je variabelen en de functie `round()` om een prompt te maken die je vervolgens gebruikt voor een LLM met de functie `chatbot_response()`."
   ]
  },
  {
   "cell_type": "code",
   "execution_count": 84,
   "metadata": {},
   "outputs": [
    {
     "name": "stdout",
     "output_type": "stream",
     "text": [
      "In de keuken staat Tommy, een vriend met een missie,\n",
      "Met vijf aardappelen in zijn hand, een culinaire dans.\n",
      "Hij schilt en snijdt met precisie, een chef-kok in wording,\n",
      "Die avondmaaltijd wordt een feest, met Tommy's aardappelcreatie.\n",
      "\n",
      "Zijn vaardigheid is ongeëvenaard, een aardappelkunstenaar,\n",
      "Met elke schil die valt, een stukje magie ontvouwt.\n",
      "Vijf stuks, een perfecte portie, voor een gezellige maaltijd,\n",
      "Tommy's kookkunsten brengen glimlachen, een vriend die we koesteren.\n"
     ]
    }
   ],
   "source": [
    "name = \"Tommy\"\n",
    "potatoes = 4.75\n",
    "prompt = f\"\"\"Schrijf een couplet over mijn vriend {name} die ongeveer {round(potatoes)} aardappelen heeft\"\"\"\n",
    "response = chatbot_response(prompt)\n",
    "print(response)"
   ]
  },
  {
   "cell_type": "markdown",
   "metadata": {},
   "source": [
    "## Oefeningen"
   ]
  },
  {
   "cell_type": "code",
   "execution_count": 86,
   "metadata": {},
   "outputs": [
    {
     "name": "stdout",
     "output_type": "stream",
     "text": [
      "Jouw geluksgetal is 30!\n"
     ]
    }
   ],
   "source": [
    "# Voer een van je favoriete nummers in. Vermenigvuldig het resultaat met 10 en sla het op in een variabele genaamd 'geluksnummer'.\n",
    "# Print een bericht met de tekst \"Jouw geluksgetal is [geluksgetal]!\"\n",
    "\n",
    "geluksgetal = 30\n",
    "geluksnummer = geluksgetal * 10\n",
    "print(f\"Jouw geluksgetal is {geluksgetal}!\")\n"
   ]
  },
  {
   "cell_type": "code",
   "execution_count": 88,
   "metadata": {},
   "outputs": [
    {
     "data": {
      "text/plain": [
       "'Natuurlijk! Hier is een kort gedicht voor jou:\\n\\nIn de stilte van de nacht,\\nWaar sterren fonkelen als diamanten,\\nDroom ik van een verre oase,\\nEen tocht door de woestijn, een prachtige reis,\\nMijn ziel verlangt naar de horizon.'"
      ]
     },
     "execution_count": 88,
     "metadata": {},
     "output_type": "execute_result"
    }
   ],
   "source": [
    "# Gebruik chatbot_response() om een gedicht met het opgegeven aantal regels af te drukken.\n",
    "# Gebruik de variabele prompt om je prompt op te slaan voordat je chatbot_response() aanroept.\n",
    "\n",
    "aantal_regels = 5\n",
    "prompt = f\"\"\"Kan je mij een gedicht schrijven met {aantal_regels} aantal regels\"\"\"\n",
    "chatbot_response(prompt)\n"
   ]
  },
  {
   "cell_type": "code",
   "execution_count": null,
   "metadata": {},
   "outputs": [],
   "source": [
    "# Herhaal oefening 2, deze keer gebruikmakend van de functie chatbot_response(), en gebruik daarna print() om het af te drukken.\n",
    "# Je moet de reactie opslaan in een variabele en deze vervolgens apart afdrukken.\n",
    "\n",
    "number_of_lines = \n",
    "prompt = \n",
    "response = \n",
    "print()\n"
   ]
  }
 ],
 "metadata": {
  "kernelspec": {
   "display_name": "Python 3",
   "language": "python",
   "name": "python3"
  },
  "language_info": {
   "codemirror_mode": {
    "name": "ipython",
    "version": 3
   },
   "file_extension": ".py",
   "mimetype": "text/x-python",
   "name": "python",
   "nbconvert_exporter": "python",
   "pygments_lexer": "ipython3",
   "version": "3.12.1"
  }
 },
 "nbformat": 4,
 "nbformat_minor": 4
}
